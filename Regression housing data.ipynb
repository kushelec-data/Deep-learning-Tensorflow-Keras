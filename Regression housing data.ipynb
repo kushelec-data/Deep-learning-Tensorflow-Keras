{
 "cells": [
  {
   "cell_type": "code",
   "execution_count": 1,
   "metadata": {},
   "outputs": [
    {
     "name": "stderr",
     "output_type": "stream",
     "text": [
      "Downloading Cal. housing from https://ndownloader.figshare.com/files/5976036 to C:\\Users\\KUSH CHADHA\\scikit_learn_data\n"
     ]
    }
   ],
   "source": [
    "import pandas as pd\n",
    "from sklearn.datasets import fetch_california_housing\n",
    "from sklearn.model_selection import train_test_split\n",
    "from sklearn.preprocessing import StandardScaler\n",
    "\n",
    "housing = fetch_california_housing()\n",
    "X = pd.DataFrame(housing.data, columns=housing.feature_names)\n",
    "y = pd.DataFrame(housing.target, columns=[\"target\"])"
   ]
  },
  {
   "cell_type": "code",
   "execution_count": 2,
   "metadata": {},
   "outputs": [
    {
     "data": {
      "text/html": [
       "<div>\n",
       "<style scoped>\n",
       "    .dataframe tbody tr th:only-of-type {\n",
       "        vertical-align: middle;\n",
       "    }\n",
       "\n",
       "    .dataframe tbody tr th {\n",
       "        vertical-align: top;\n",
       "    }\n",
       "\n",
       "    .dataframe thead th {\n",
       "        text-align: right;\n",
       "    }\n",
       "</style>\n",
       "<table border=\"1\" class=\"dataframe\">\n",
       "  <thead>\n",
       "    <tr style=\"text-align: right;\">\n",
       "      <th></th>\n",
       "      <th>MedInc</th>\n",
       "      <th>HouseAge</th>\n",
       "      <th>AveRooms</th>\n",
       "      <th>AveBedrms</th>\n",
       "      <th>Population</th>\n",
       "      <th>AveOccup</th>\n",
       "      <th>Latitude</th>\n",
       "      <th>Longitude</th>\n",
       "    </tr>\n",
       "  </thead>\n",
       "  <tbody>\n",
       "    <tr>\n",
       "      <td>0</td>\n",
       "      <td>8.3252</td>\n",
       "      <td>41.0</td>\n",
       "      <td>6.984127</td>\n",
       "      <td>1.023810</td>\n",
       "      <td>322.0</td>\n",
       "      <td>2.555556</td>\n",
       "      <td>37.88</td>\n",
       "      <td>-122.23</td>\n",
       "    </tr>\n",
       "    <tr>\n",
       "      <td>1</td>\n",
       "      <td>8.3014</td>\n",
       "      <td>21.0</td>\n",
       "      <td>6.238137</td>\n",
       "      <td>0.971880</td>\n",
       "      <td>2401.0</td>\n",
       "      <td>2.109842</td>\n",
       "      <td>37.86</td>\n",
       "      <td>-122.22</td>\n",
       "    </tr>\n",
       "    <tr>\n",
       "      <td>2</td>\n",
       "      <td>7.2574</td>\n",
       "      <td>52.0</td>\n",
       "      <td>8.288136</td>\n",
       "      <td>1.073446</td>\n",
       "      <td>496.0</td>\n",
       "      <td>2.802260</td>\n",
       "      <td>37.85</td>\n",
       "      <td>-122.24</td>\n",
       "    </tr>\n",
       "    <tr>\n",
       "      <td>3</td>\n",
       "      <td>5.6431</td>\n",
       "      <td>52.0</td>\n",
       "      <td>5.817352</td>\n",
       "      <td>1.073059</td>\n",
       "      <td>558.0</td>\n",
       "      <td>2.547945</td>\n",
       "      <td>37.85</td>\n",
       "      <td>-122.25</td>\n",
       "    </tr>\n",
       "    <tr>\n",
       "      <td>4</td>\n",
       "      <td>3.8462</td>\n",
       "      <td>52.0</td>\n",
       "      <td>6.281853</td>\n",
       "      <td>1.081081</td>\n",
       "      <td>565.0</td>\n",
       "      <td>2.181467</td>\n",
       "      <td>37.85</td>\n",
       "      <td>-122.25</td>\n",
       "    </tr>\n",
       "  </tbody>\n",
       "</table>\n",
       "</div>"
      ],
      "text/plain": [
       "   MedInc  HouseAge  AveRooms  AveBedrms  Population  AveOccup  Latitude  \\\n",
       "0  8.3252      41.0  6.984127   1.023810       322.0  2.555556     37.88   \n",
       "1  8.3014      21.0  6.238137   0.971880      2401.0  2.109842     37.86   \n",
       "2  7.2574      52.0  8.288136   1.073446       496.0  2.802260     37.85   \n",
       "3  5.6431      52.0  5.817352   1.073059       558.0  2.547945     37.85   \n",
       "4  3.8462      52.0  6.281853   1.081081       565.0  2.181467     37.85   \n",
       "\n",
       "   Longitude  \n",
       "0    -122.23  \n",
       "1    -122.22  \n",
       "2    -122.24  \n",
       "3    -122.25  \n",
       "4    -122.25  "
      ]
     },
     "execution_count": 2,
     "metadata": {},
     "output_type": "execute_result"
    }
   ],
   "source": [
    "X.head()"
   ]
  },
  {
   "cell_type": "code",
   "execution_count": 3,
   "metadata": {},
   "outputs": [
    {
     "data": {
      "text/html": [
       "<div>\n",
       "<style scoped>\n",
       "    .dataframe tbody tr th:only-of-type {\n",
       "        vertical-align: middle;\n",
       "    }\n",
       "\n",
       "    .dataframe tbody tr th {\n",
       "        vertical-align: top;\n",
       "    }\n",
       "\n",
       "    .dataframe thead th {\n",
       "        text-align: right;\n",
       "    }\n",
       "</style>\n",
       "<table border=\"1\" class=\"dataframe\">\n",
       "  <thead>\n",
       "    <tr style=\"text-align: right;\">\n",
       "      <th></th>\n",
       "      <th>target</th>\n",
       "    </tr>\n",
       "  </thead>\n",
       "  <tbody>\n",
       "    <tr>\n",
       "      <td>0</td>\n",
       "      <td>4.526</td>\n",
       "    </tr>\n",
       "    <tr>\n",
       "      <td>1</td>\n",
       "      <td>3.585</td>\n",
       "    </tr>\n",
       "    <tr>\n",
       "      <td>2</td>\n",
       "      <td>3.521</td>\n",
       "    </tr>\n",
       "    <tr>\n",
       "      <td>3</td>\n",
       "      <td>3.413</td>\n",
       "    </tr>\n",
       "    <tr>\n",
       "      <td>4</td>\n",
       "      <td>3.422</td>\n",
       "    </tr>\n",
       "  </tbody>\n",
       "</table>\n",
       "</div>"
      ],
      "text/plain": [
       "   target\n",
       "0   4.526\n",
       "1   3.585\n",
       "2   3.521\n",
       "3   3.413\n",
       "4   3.422"
      ]
     },
     "execution_count": 3,
     "metadata": {},
     "output_type": "execute_result"
    }
   ],
   "source": [
    "y.head()"
   ]
  },
  {
   "cell_type": "code",
   "execution_count": 4,
   "metadata": {},
   "outputs": [],
   "source": [
    "X_train_full, X_test, y_train_full, y_test = train_test_split(X, y, random_state=42)\n",
    "X_train, X_valid, y_train, y_valid = train_test_split(X_train_full, y_train_full, random_state=42)"
   ]
  },
  {
   "cell_type": "markdown",
   "metadata": {},
   "source": [
    "### Scaling data\n",
    "Considering the above data it is required to scale the data, we will use standard scalar. "
   ]
  },
  {
   "cell_type": "code",
   "execution_count": 6,
   "metadata": {},
   "outputs": [],
   "source": [
    "scaler = StandardScaler()\n",
    "X_train = scaler.fit_transform(X_train)\n",
    "X_valid = scaler.transform(X_valid)\n",
    "X_test =  scaler.transform(X_test)"
   ]
  },
  {
   "cell_type": "code",
   "execution_count": 15,
   "metadata": {},
   "outputs": [
    {
     "name": "stdout",
     "output_type": "stream",
     "text": [
      "Train on 11610 samples, validate on 3870 samples\n",
      "Epoch 1/100\n",
      "11610/11610 [==============================] - 1s 119us/sample - loss: 0.8427 - val_loss: 0.4339\n",
      "Epoch 2/100\n",
      "11610/11610 [==============================] - 1s 67us/sample - loss: 0.4073 - val_loss: 0.3801\n",
      "Epoch 3/100\n",
      "11610/11610 [==============================] - 1s 68us/sample - loss: 0.3759 - val_loss: 0.3897\n",
      "Epoch 4/100\n",
      "11610/11610 [==============================] - 1s 69us/sample - loss: 0.3594 - val_loss: 0.4278\n",
      "Epoch 5/100\n",
      "11610/11610 [==============================] - 1s 68us/sample - loss: 0.3457 - val_loss: 0.4012\n",
      "Epoch 6/100\n",
      "11610/11610 [==============================] - 1s 68us/sample - loss: 0.3457 - val_loss: 0.3496\n",
      "Epoch 7/100\n",
      "11610/11610 [==============================] - 1s 67us/sample - loss: 0.3325 - val_loss: 0.3404\n",
      "Epoch 8/100\n",
      "11610/11610 [==============================] - 1s 69us/sample - loss: 0.3214 - val_loss: 0.3252\n",
      "Epoch 9/100\n",
      "11610/11610 [==============================] - 1s 68us/sample - loss: 0.3179 - val_loss: 0.3441\n",
      "Epoch 10/100\n",
      "11610/11610 [==============================] - 1s 69us/sample - loss: 0.3176 - val_loss: 0.3037\n",
      "Epoch 11/100\n",
      "11610/11610 [==============================] - 1s 70us/sample - loss: 0.3125 - val_loss: 0.3254\n",
      "Epoch 12/100\n",
      "11610/11610 [==============================] - 1s 69us/sample - loss: 0.3063 - val_loss: 0.3616\n",
      "Epoch 13/100\n",
      "11610/11610 [==============================] - 1s 69us/sample - loss: 0.3046 - val_loss: 0.2850\n",
      "Epoch 14/100\n",
      "11610/11610 [==============================] - 1s 69us/sample - loss: 0.2947 - val_loss: 0.2947\n",
      "Epoch 15/100\n",
      "11610/11610 [==============================] - 1s 68us/sample - loss: 0.2936 - val_loss: 0.2902\n",
      "Epoch 16/100\n",
      "11610/11610 [==============================] - 1s 69us/sample - loss: 0.2935 - val_loss: 0.3457\n",
      "Epoch 17/100\n",
      "11610/11610 [==============================] - 1s 66us/sample - loss: 0.2938 - val_loss: 0.2940\n",
      "Epoch 18/100\n",
      "11610/11610 [==============================] - 1s 70us/sample - loss: 0.2894 - val_loss: 0.3113\n",
      "Epoch 19/100\n",
      "11610/11610 [==============================] - 1s 68us/sample - loss: 0.2881 - val_loss: 0.3025\n",
      "Epoch 20/100\n",
      "11610/11610 [==============================] - 1s 70us/sample - loss: 0.2845 - val_loss: 0.3125\n",
      "Epoch 21/100\n",
      "11610/11610 [==============================] - 1s 68us/sample - loss: 0.2809 - val_loss: 0.3500\n",
      "Epoch 22/100\n",
      "11610/11610 [==============================] - 1s 70us/sample - loss: 0.2796 - val_loss: 0.3179\n",
      "Epoch 23/100\n",
      "11610/11610 [==============================] - 1s 68us/sample - loss: 0.2775 - val_loss: 0.2860\n",
      "Epoch 24/100\n",
      "11610/11610 [==============================] - 1s 70us/sample - loss: 0.2763 - val_loss: 0.2726\n",
      "Epoch 25/100\n",
      "11610/11610 [==============================] - 1s 67us/sample - loss: 0.2760 - val_loss: 0.2660\n",
      "Epoch 26/100\n",
      "11610/11610 [==============================] - 1s 71us/sample - loss: 0.2734 - val_loss: 0.2643\n",
      "Epoch 27/100\n",
      "11610/11610 [==============================] - 1s 69us/sample - loss: 0.2733 - val_loss: 0.2815\n",
      "Epoch 28/100\n",
      "11610/11610 [==============================] - 1s 69us/sample - loss: 0.2717 - val_loss: 0.2808\n",
      "Epoch 29/100\n",
      "11610/11610 [==============================] - 1s 69us/sample - loss: 0.2677 - val_loss: 0.3064\n",
      "Epoch 30/100\n",
      "11610/11610 [==============================] - 1s 71us/sample - loss: 0.2663 - val_loss: 0.2814\n",
      "Epoch 31/100\n",
      "11610/11610 [==============================] - 1s 70us/sample - loss: 0.2629 - val_loss: 0.2691\n",
      "Epoch 32/100\n",
      "11610/11610 [==============================] - 1s 69us/sample - loss: 0.2640 - val_loss: 0.3266\n",
      "Epoch 33/100\n",
      "11610/11610 [==============================] - 1s 68us/sample - loss: 0.2640 - val_loss: 0.2860\n",
      "Epoch 34/100\n",
      "11610/11610 [==============================] - 1s 72us/sample - loss: 0.2660 - val_loss: 0.3583\n",
      "Epoch 35/100\n",
      "11610/11610 [==============================] - 1s 70us/sample - loss: 0.2665 - val_loss: 0.4189\n",
      "Epoch 36/100\n",
      "11610/11610 [==============================] - 1s 72us/sample - loss: 0.2617 - val_loss: 0.2717\n",
      "Epoch 37/100\n",
      "11610/11610 [==============================] - 1s 70us/sample - loss: 0.2591 - val_loss: 0.2837\n",
      "Epoch 38/100\n",
      "11610/11610 [==============================] - 1s 72us/sample - loss: 0.2575 - val_loss: 0.2765\n",
      "Epoch 39/100\n",
      "11610/11610 [==============================] - 1s 69us/sample - loss: 0.2564 - val_loss: 0.2589\n",
      "Epoch 40/100\n",
      "11610/11610 [==============================] - 1s 70us/sample - loss: 0.2568 - val_loss: 0.2832\n",
      "Epoch 41/100\n",
      "11610/11610 [==============================] - 1s 71us/sample - loss: 0.2554 - val_loss: 0.3689\n",
      "Epoch 42/100\n",
      "11610/11610 [==============================] - 1s 69us/sample - loss: 0.2558 - val_loss: 0.3279\n",
      "Epoch 43/100\n",
      "11610/11610 [==============================] - 1s 70us/sample - loss: 0.2532 - val_loss: 0.3000\n",
      "Epoch 44/100\n",
      "11610/11610 [==============================] - 1s 70us/sample - loss: 0.2526 - val_loss: 0.2763\n",
      "Epoch 45/100\n",
      "11610/11610 [==============================] - 1s 71us/sample - loss: 0.2490 - val_loss: 0.2743\n",
      "Epoch 46/100\n",
      "11610/11610 [==============================] - 1s 71us/sample - loss: 0.2504 - val_loss: 0.3019\n",
      "Epoch 47/100\n",
      "11610/11610 [==============================] - 1s 71us/sample - loss: 0.2504 - val_loss: 0.2623\n",
      "Epoch 48/100\n",
      "11610/11610 [==============================] - 1s 71us/sample - loss: 0.2463 - val_loss: 0.2754\n",
      "Epoch 49/100\n",
      "11610/11610 [==============================] - 1s 71us/sample - loss: 0.2461 - val_loss: 0.2820\n",
      "Epoch 50/100\n",
      "11610/11610 [==============================] - 1s 72us/sample - loss: 0.2452 - val_loss: 0.2698\n",
      "Epoch 51/100\n",
      "11610/11610 [==============================] - 1s 70us/sample - loss: 0.2459 - val_loss: 0.2931\n",
      "Epoch 52/100\n",
      "11610/11610 [==============================] - 1s 71us/sample - loss: 0.2423 - val_loss: 0.3609\n",
      "Epoch 53/100\n",
      "11610/11610 [==============================] - 1s 72us/sample - loss: 0.2446 - val_loss: 0.2772\n",
      "Epoch 54/100\n",
      "11610/11610 [==============================] - 1s 72us/sample - loss: 0.2432 - val_loss: 0.3561\n",
      "Epoch 55/100\n",
      "11610/11610 [==============================] - 1s 71us/sample - loss: 0.2418 - val_loss: 0.2637\n",
      "Epoch 56/100\n",
      "11610/11610 [==============================] - 1s 73us/sample - loss: 0.2422 - val_loss: 0.3022\n",
      "Epoch 57/100\n",
      "11610/11610 [==============================] - 1s 73us/sample - loss: 0.2422 - val_loss: 0.2667\n",
      "Epoch 58/100\n",
      "11610/11610 [==============================] - 1s 72us/sample - loss: 0.2370 - val_loss: 0.2745\n",
      "Epoch 59/100\n",
      "11610/11610 [==============================] - 1s 71us/sample - loss: 0.2379 - val_loss: 0.2673\n",
      "Epoch 60/100\n",
      "11610/11610 [==============================] - 1s 73us/sample - loss: 0.2356 - val_loss: 0.2707\n",
      "Epoch 61/100\n",
      "11610/11610 [==============================] - 1s 72us/sample - loss: 0.2375 - val_loss: 0.3694\n",
      "Epoch 62/100\n",
      "11610/11610 [==============================] - 1s 72us/sample - loss: 0.2333 - val_loss: 0.3003\n",
      "Epoch 63/100\n",
      "11610/11610 [==============================] - 1s 70us/sample - loss: 0.2336 - val_loss: 0.2688\n",
      "Epoch 64/100\n",
      "11610/11610 [==============================] - 1s 73us/sample - loss: 0.2326 - val_loss: 0.2721\n",
      "Epoch 65/100\n",
      "11610/11610 [==============================] - 1s 72us/sample - loss: 0.2320 - val_loss: 0.2838\n",
      "Epoch 66/100\n",
      "11610/11610 [==============================] - 1s 71us/sample - loss: 0.2314 - val_loss: 0.2684\n",
      "Epoch 67/100\n",
      "11610/11610 [==============================] - 1s 70us/sample - loss: 0.2311 - val_loss: 0.2577\n",
      "Epoch 68/100\n",
      "11610/11610 [==============================] - 1s 73us/sample - loss: 0.2314 - val_loss: 0.2979\n",
      "Epoch 69/100\n",
      "11610/11610 [==============================] - 1s 72us/sample - loss: 0.2302 - val_loss: 0.2682\n",
      "Epoch 70/100\n",
      "11610/11610 [==============================] - 1s 71us/sample - loss: 0.2300 - val_loss: 0.2717\n",
      "Epoch 71/100\n",
      "11610/11610 [==============================] - 1s 71us/sample - loss: 0.2265 - val_loss: 0.2702\n",
      "Epoch 72/100\n",
      "11610/11610 [==============================] - 1s 72us/sample - loss: 0.2284 - val_loss: 0.2823\n",
      "Epoch 73/100\n",
      "11610/11610 [==============================] - 1s 72us/sample - loss: 0.2277 - val_loss: 0.2827\n",
      "Epoch 74/100\n",
      "11610/11610 [==============================] - 1s 72us/sample - loss: 0.2270 - val_loss: 0.2614\n",
      "Epoch 75/100\n",
      "11610/11610 [==============================] - 1s 70us/sample - loss: 0.2267 - val_loss: 0.2957\n",
      "Epoch 76/100\n",
      "11610/11610 [==============================] - 1s 72us/sample - loss: 0.2270 - val_loss: 0.2681\n",
      "Epoch 77/100\n",
      "11610/11610 [==============================] - 1s 73us/sample - loss: 0.2231 - val_loss: 0.2596\n",
      "Epoch 78/100\n",
      "11610/11610 [==============================] - 1s 72us/sample - loss: 0.2227 - val_loss: 0.2714\n",
      "Epoch 79/100\n",
      "11610/11610 [==============================] - 1s 70us/sample - loss: 0.2206 - val_loss: 0.2691\n",
      "Epoch 80/100\n",
      "11610/11610 [==============================] - 1s 71us/sample - loss: 0.2205 - val_loss: 0.2566\n",
      "Epoch 81/100\n",
      "11610/11610 [==============================] - 1s 71us/sample - loss: 0.2214 - val_loss: 0.2813\n",
      "Epoch 82/100\n",
      "11610/11610 [==============================] - 1s 71us/sample - loss: 0.2210 - val_loss: 0.3133\n",
      "Epoch 83/100\n",
      "11610/11610 [==============================] - 1s 70us/sample - loss: 0.2204 - val_loss: 0.2722\n",
      "Epoch 84/100\n",
      "11610/11610 [==============================] - 1s 72us/sample - loss: 0.2154 - val_loss: 0.3023\n",
      "Epoch 85/100\n",
      "11610/11610 [==============================] - 1s 71us/sample - loss: 0.2176 - val_loss: 0.2653\n",
      "Epoch 86/100\n",
      "11610/11610 [==============================] - 1s 72us/sample - loss: 0.2193 - val_loss: 0.2725\n",
      "Epoch 87/100\n",
      "11610/11610 [==============================] - 1s 70us/sample - loss: 0.2181 - val_loss: 0.2772\n",
      "Epoch 88/100\n",
      "11610/11610 [==============================] - 1s 71us/sample - loss: 0.2167 - val_loss: 0.2596\n",
      "Epoch 89/100\n",
      "11610/11610 [==============================] - 1s 72us/sample - loss: 0.2163 - val_loss: 0.2811\n",
      "Epoch 90/100\n",
      "11610/11610 [==============================] - 1s 73us/sample - loss: 0.2147 - val_loss: 0.3291\n",
      "Epoch 91/100\n",
      "11610/11610 [==============================] - 1s 72us/sample - loss: 0.2167 - val_loss: 0.3457\n",
      "Epoch 92/100\n",
      "11610/11610 [==============================] - 1s 71us/sample - loss: 0.2159 - val_loss: 0.2803\n",
      "Epoch 93/100\n",
      "11610/11610 [==============================] - 1s 73us/sample - loss: 0.2171 - val_loss: 0.4795\n",
      "Epoch 94/100\n",
      "11610/11610 [==============================] - 1s 72us/sample - loss: 0.2141 - val_loss: 0.2607\n",
      "Epoch 95/100\n",
      "11610/11610 [==============================] - 1s 80us/sample - loss: 0.2120 - val_loss: 0.2813\n",
      "Epoch 96/100\n",
      "11610/11610 [==============================] - 1s 120us/sample - loss: 0.2090 - val_loss: 0.2788\n",
      "Epoch 97/100\n",
      "11610/11610 [==============================] - 1s 128us/sample - loss: 0.2123 - val_loss: 0.2943\n",
      "Epoch 98/100\n",
      "11610/11610 [==============================] - 2s 167us/sample - loss: 0.2123 - val_loss: 0.2586\n",
      "Epoch 99/100\n",
      "11610/11610 [==============================] - 2s 165us/sample - loss: 0.2121 - val_loss: 0.2684\n",
      "Epoch 100/100\n",
      "11610/11610 [==============================] - 2s 166us/sample - loss: 0.2087 - val_loss: 0.2727\n"
     ]
    }
   ],
   "source": [
    "import tensorflow as tf\n",
    "model = tf.keras.models.Sequential([\n",
    "    tf.keras.layers.Dense(100, activation=\"relu\", input_shape=X_train.shape[1:]),\n",
    "    tf.keras.layers.Dense(50, activation=\"relu\"),\n",
    "    tf.keras.layers.Dense(50, activation=\"relu\"),\n",
    "    tf.keras.layers.Dense(50, activation=\"relu\"),\n",
    "    tf.keras.layers.Dense(50, activation=\"relu\"),\n",
    "    tf.keras.layers.Dense(50, activation=\"relu\"),\n",
    "    tf.keras.layers.Dense(20, activation=\"relu\"),\n",
    "    tf.keras.layers.Dense(1)\n",
    "])\n",
    "\n",
    "model.compile(loss=\"mse\", optimizer=\"SGD\")\n",
    "history = model.fit(X_train, y_train, epochs=100, validation_data=(X_valid, y_valid))"
   ]
  },
  {
   "cell_type": "code",
   "execution_count": 16,
   "metadata": {},
   "outputs": [
    {
     "data": {
      "image/png": "[encoded data removed]",
      "text/plain": [
       "<Figure size 576x360 with 1 Axes>"
      ]
     },
     "metadata": {
      "needs_background": "light"
     },
     "output_type": "display_data"
    }
   ],
   "source": [
    "import matplotlib.pyplot as plt\n",
    "pd.DataFrame(history.history).plot(figsize=(8, 5))\n",
    "plt.grid(True)"
   ]
  },
  {
   "cell_type": "code",
   "execution_count": 19,
   "metadata": {},
   "outputs": [
    {
     "name": "stdout",
     "output_type": "stream",
     "text": [
      "5160/5160 [==============================] - 1s 112us/sample - loss: 0.2703\n"
     ]
    }
   ],
   "source": [
    "mse_test = model.evaluate(X_test, y_test)\n",
    "X_new = X_test[:5]\n",
    "y_pred = model.predict(X_new)"
   ]
  },
  {
   "cell_type": "code",
   "execution_count": 20,
   "metadata": {},
   "outputs": [
    {
     "data": {
      "text/plain": [
       "array([[0.5706705],\n",
       "       [1.0950773],\n",
       "       [4.812077 ],\n",
       "       [2.6741872],\n",
       "       [2.707638 ]], dtype=float32)"
      ]
     },
     "execution_count": 20,
     "metadata": {},
     "output_type": "execute_result"
    }
   ],
   "source": [
    "y_pred"
   ]
  },
  {
   "cell_type": "code",
   "execution_count": 21,
   "metadata": {},
   "outputs": [
    {
     "name": "stdout",
     "output_type": "stream",
     "text": [
      "Train on 11610 samples, validate on 3870 samples\n",
      "Epoch 1/10\n",
      "11610/11610 [==============================] - 3s 267us/sample - loss: 0.1865 - val_loss: 0.2629\n",
      "Epoch 2/10\n",
      "11610/11610 [==============================] - 2s 171us/sample - loss: 0.1839 - val_loss: 0.2596\n",
      "Epoch 3/10\n",
      "11610/11610 [==============================] - 2s 165us/sample - loss: 0.1825 - val_loss: 0.2605\n",
      "Epoch 4/10\n",
      "11610/11610 [==============================] - 2s 143us/sample - loss: 0.1821 - val_loss: 0.2599\n",
      "Epoch 5/10\n",
      "11610/11610 [==============================] - 2s 162us/sample - loss: 0.1814 - val_loss: 0.2611\n",
      "Epoch 6/10\n",
      "11610/11610 [==============================] - 2s 159us/sample - loss: 0.1811 - val_loss: 0.2602\n",
      "Epoch 7/10\n",
      "11610/11610 [==============================] - 2s 168us/sample - loss: 0.1806 - val_loss: 0.2631\n",
      "Epoch 8/10\n",
      "11610/11610 [==============================] - 2s 162us/sample - loss: 0.1804 - val_loss: 0.2610\n",
      "Epoch 9/10\n",
      "11610/11610 [==============================] - 2s 171us/sample - loss: 0.1803 - val_loss: 0.2592\n",
      "Epoch 10/10\n",
      "11610/11610 [==============================] - 2s 170us/sample - loss: 0.1797 - val_loss: 0.2601\n",
      "5160/5160 [==============================] - 1s 116us/sample - loss: 0.2674\n"
     ]
    }
   ],
   "source": [
    "model.compile(loss=\"mse\", optimizer=tf.keras.optimizers.SGD(lr=1e-3))\n",
    "checkpoint_cb = tf.keras.callbacks.ModelCheckpoint(\"my_keras_model.h5\", save_best_only=True)\n",
    "history = model.fit(X_train, y_train, epochs=10,\n",
    "                    validation_data=(X_valid, y_valid),\n",
    "                    callbacks=[checkpoint_cb])\n",
    "model = tf.keras.models.load_model(\"my_keras_model.h5\") # rollback to best model\n",
    "mse_test = model.evaluate(X_test, y_test)"
   ]
  },
  {
   "cell_type": "code",
   "execution_count": 22,
   "metadata": {},
   "outputs": [
    {
     "name": "stdout",
     "output_type": "stream",
     "text": [
      "Train on 11610 samples, validate on 3870 samples\n",
      "Epoch 1/100\n",
      "11610/11610 [==============================] - 3s 275us/sample - loss: 0.1802 - val_loss: 0.2598\n",
      "Epoch 2/100\n",
      "11610/11610 [==============================] - 2s 152us/sample - loss: 0.1795 - val_loss: 0.2607\n",
      "Epoch 3/100\n",
      "11610/11610 [==============================] - 2s 153us/sample - loss: 0.1793 - val_loss: 0.2588\n",
      "Epoch 4/100\n",
      "11610/11610 [==============================] - 2s 144us/sample - loss: 0.1792 - val_loss: 0.2636\n",
      "Epoch 5/100\n",
      "11610/11610 [==============================] - 2s 157us/sample - loss: 0.1792 - val_loss: 0.2591\n",
      "Epoch 6/100\n",
      "11610/11610 [==============================] - 2s 144us/sample - loss: 0.1788 - val_loss: 0.2606\n",
      "Epoch 7/100\n",
      "11610/11610 [==============================] - 2s 134us/sample - loss: 0.1786 - val_loss: 0.2613\n",
      "Epoch 8/100\n",
      "11610/11610 [==============================] - 2s 174us/sample - loss: 0.1784 - val_loss: 0.2581\n",
      "Epoch 9/100\n",
      "11610/11610 [==============================] - 2s 162us/sample - loss: 0.1784 - val_loss: 0.2601\n",
      "Epoch 10/100\n",
      "11610/11610 [==============================] - 2s 151us/sample - loss: 0.1777 - val_loss: 0.2617\n",
      "Epoch 11/100\n",
      "11610/11610 [==============================] - 2s 179us/sample - loss: 0.1779 - val_loss: 0.2609\n",
      "Epoch 12/100\n",
      "11610/11610 [==============================] - 2s 177us/sample - loss: 0.1774 - val_loss: 0.2631\n",
      "Epoch 13/100\n",
      "11610/11610 [==============================] - 2s 180us/sample - loss: 0.1775 - val_loss: 0.2615\n",
      "Epoch 14/100\n",
      "11610/11610 [==============================] - 2s 177us/sample - loss: 0.1773 - val_loss: 0.2611\n",
      "Epoch 15/100\n",
      "11610/11610 [==============================] - 2s 182us/sample - loss: 0.1768 - val_loss: 0.2614\n",
      "Epoch 16/100\n",
      "11610/11610 [==============================] - 2s 187us/sample - loss: 0.1768 - val_loss: 0.2624\n",
      "Epoch 17/100\n",
      "11610/11610 [==============================] - 2s 189us/sample - loss: 0.1770 - val_loss: 0.2607\n",
      "Epoch 18/100\n",
      "11610/11610 [==============================] - 2s 189us/sample - loss: 0.1767 - val_loss: 0.2618\n",
      "5160/5160 [==============================] - 0s 90us/sample - loss: 0.2679\n"
     ]
    }
   ],
   "source": [
    "model.compile(loss=\"mse\", optimizer=tf.keras.optimizers.SGD(lr=1e-3))\n",
    "early_stopping_cb = tf.keras.callbacks.EarlyStopping(patience=10,\n",
    "                                                  restore_best_weights=True)\n",
    "history = model.fit(X_train, y_train, epochs=100,\n",
    "                    validation_data=(X_valid, y_valid),\n",
    "                    callbacks=[checkpoint_cb, early_stopping_cb])\n",
    "mse_test = model.evaluate(X_test, y_test)"
   ]
  },
  {
   "cell_type": "markdown",
   "metadata": {},
   "source": [
    "### Early stopping \n",
    "\n",
    "This will help to early stop the model to avoid the waste of resources. "
   ]
  },
  {
   "cell_type": "code",
   "execution_count": 23,
   "metadata": {},
   "outputs": [
    {
     "data": {
      "image/png": "[encoded data removed]",
      "text/plain": [
       "<Figure size 576x360 with 1 Axes>"
      ]
     },
     "metadata": {
      "needs_background": "light"
     },
     "output_type": "display_data"
    }
   ],
   "source": [
    "import matplotlib.pyplot as plt\n",
    "pd.DataFrame(history.history).plot(figsize=(8, 5))\n",
    "# plt.gca().set_ylim(0, 1)\n",
    "plt.grid(True)"
   ]
  },
  {
   "cell_type": "code",
   "execution_count": null,
   "metadata": {},
   "outputs": [],
   "source": []
  }
 ],
 "metadata": {
  "kernelspec": {
   "display_name": "Python 3",
   "language": "python",
   "name": "python3"
  },
  "language_info": {
   "codemirror_mode": {
    "name": "ipython",
    "version": 3
   },
   "file_extension": ".py",
   "mimetype": "text/x-python",
   "name": "python",
   "nbconvert_exporter": "python",
   "pygments_lexer": "ipython3",
   "version": "3.7.4"
  }
 },
 "nbformat": 4,
 "nbformat_minor": 2
}
