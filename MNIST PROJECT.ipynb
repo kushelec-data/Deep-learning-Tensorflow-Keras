{
 "cells": [
  {
   "cell_type": "code",
   "execution_count": 1,
   "metadata": {},
   "outputs": [],
   "source": [
    "# Verify installation - \n",
    "import tensorflow as tf"
   ]
  },
  {
   "cell_type": "code",
   "execution_count": 2,
   "metadata": {},
   "outputs": [
    {
     "name": "stdout",
     "output_type": "stream",
     "text": [
      "Tensorflow Version: 2.1.0\n",
      "Keras Version: 2.2.4-tf\n"
     ]
    }
   ],
   "source": [
    "print(f\"Tensorflow Version: {tf.__version__}\")\n",
    "print(f\"Keras Version: {tf.keras.__version__}\")"
   ]
  },
  {
   "cell_type": "code",
   "execution_count": 3,
   "metadata": {},
   "outputs": [
    {
     "data": {
      "text/plain": [
       "[]"
      ]
     },
     "execution_count": 3,
     "metadata": {},
     "output_type": "execute_result"
    }
   ],
   "source": [
    "tf.config.list_physical_devices('GPU')"
   ]
  },
  {
   "cell_type": "markdown",
   "metadata": {},
   "source": [
    "# This shows that no GPU is activated."
   ]
  },
  {
   "cell_type": "code",
   "execution_count": 4,
   "metadata": {},
   "outputs": [
    {
     "data": {
      "text/plain": [
       "[PhysicalDevice(name='/physical_device:CPU:0', device_type='CPU')]"
      ]
     },
     "execution_count": 4,
     "metadata": {},
     "output_type": "execute_result"
    }
   ],
   "source": [
    "tf.config.list_physical_devices('CPU')"
   ]
  },
  {
   "cell_type": "code",
   "execution_count": 5,
   "metadata": {},
   "outputs": [
    {
     "name": "stdout",
     "output_type": "stream",
     "text": [
      "GPU not available\n",
      "CPU is available\n",
      "details\n",
      " [PhysicalDevice(name='/physical_device:CPU:0', device_type='CPU')]\n"
     ]
    }
   ],
   "source": [
    "CheckList = [\"GPU\", \"CPU\"]\n",
    "for device in CheckList:\n",
    "    out_ = tf.config.list_physical_devices(device)    \n",
    "    if len(out_) > 0:\n",
    "        print(f\"{device} is available\")        \n",
    "        print(\"details\\n\",out_)\n",
    "    else:\n",
    "        print(f\"{device} not available\")"
   ]
  },
  {
   "cell_type": "code",
   "execution_count": 6,
   "metadata": {},
   "outputs": [],
   "source": [
    "import numpy as np\n",
    "import matplotlib.pyplot as plt\n",
    "import pandas as pd\n",
    "import os\n",
    "import tensorflow as tf\n",
    "import seaborn as sns"
   ]
  },
  {
   "cell_type": "markdown",
   "metadata": {},
   "source": [
    "### Working on mnist dataset - \n",
    "\n",
    "* This dataset contains handwritten digits. \n",
    "* It has 10 classes i.e. 0 to 9\n",
    "* Each data point is 2D array of 28x28 size.\n",
    "* Also known as hello world dataset for ANN\n",
    "\n",
    "[image source](https://en.wikipedia.org/wiki/MNIST_database#/media/File:MnistExamples.png)\n",
    "\n",
    "![](https://upload.wikimedia.org/wikipedia/commons/2/27/MnistExamples.png)"
   ]
  },
  {
   "cell_type": "code",
   "execution_count": 7,
   "metadata": {},
   "outputs": [],
   "source": [
    "# Keras has already contains mnist dataset \n",
    "# Loading mnist data using Keras\n",
    "\n",
    "mnist = tf.keras.datasets.mnist\n",
    "(X_train_full, y_train_full), (X_test, y_test) = mnist.load_data()"
   ]
  },
  {
   "cell_type": "code",
   "execution_count": 8,
   "metadata": {},
   "outputs": [
    {
     "data": {
      "text/plain": [
       "(28, 28)"
      ]
     },
     "execution_count": 8,
     "metadata": {},
     "output_type": "execute_result"
    }
   ],
   "source": [
    "X_train_full[5].shape # This image is made up of pixels ....."
   ]
  },
  {
   "cell_type": "code",
   "execution_count": 9,
   "metadata": {},
   "outputs": [
    {
     "data": {
      "text/plain": [
       "array([[  0,   0,   0,   0,   0,   0,   0,   0,   0,   0,   0,   0,   0,\n",
       "          0,   0,   0,   0,   0,   0,   0,   0,   0,   0,   0,   0,   0,\n",
       "          0,   0],\n",
       "       [  0,   0,   0,   0,   0,   0,   0,   0,   0,   0,   0,   0,   0,\n",
       "          0,   0,   0,   0,   0,   0,   0,   0,   0,   0,   0,   0,   0,\n",
       "          0,   0],\n",
       "       [  0,   0,   0,   0,   0,   0,   0,   0,   0,   0,   0,   0,   0,\n",
       "          0,   0,   0,   0,   0,   0,   0,   0,   0,   0,   0,   0,   0,\n",
       "          0,   0],\n",
       "       [  0,   0,   0,   0,   0,   0,   0,   0,   0,   0,   0,   0,   0,\n",
       "          0,   0,   0,   0,   0,   0,   0,   0,   0,   0,   0,   0,   0,\n",
       "          0,   0],\n",
       "       [  0,   0,   0,   0,   0,   0,   0,   0,   0,   0,   0,   0,   0,\n",
       "          0,   0,   0,   0,   0,   0,   0,   0,   0,   0,   0,   0,   0,\n",
       "          0,   0],\n",
       "       [  0,   0,   0,   0,   0,   0,   0,   0,   0,   0,   0,   0,   0,\n",
       "          0,   0,  13,  25, 100, 122,   7,   0,   0,   0,   0,   0,   0,\n",
       "          0,   0],\n",
       "       [  0,   0,   0,   0,   0,   0,   0,   0,   0,   0,   0,   0,   0,\n",
       "         33, 151, 208, 252, 252, 252, 146,   0,   0,   0,   0,   0,   0,\n",
       "          0,   0],\n",
       "       [  0,   0,   0,   0,   0,   0,   0,   0,   0,   0,   0,  40, 152,\n",
       "        244, 252, 253, 224, 211, 252, 232,  40,   0,   0,   0,   0,   0,\n",
       "          0,   0],\n",
       "       [  0,   0,   0,   0,   0,   0,   0,   0,   0,  15, 152, 239, 252,\n",
       "        252, 252, 216,  31,  37, 252, 252,  60,   0,   0,   0,   0,   0,\n",
       "          0,   0],\n",
       "       [  0,   0,   0,   0,   0,   0,   0,   0,   0,  96, 252, 252, 252,\n",
       "        252, 217,  29,   0,  37, 252, 252,  60,   0,   0,   0,   0,   0,\n",
       "          0,   0],\n",
       "       [  0,   0,   0,   0,   0,   0,   0,   0,   0, 181, 252, 252, 220,\n",
       "        167,  30,   0,   0,  77, 252, 252,  60,   0,   0,   0,   0,   0,\n",
       "          0,   0],\n",
       "       [  0,   0,   0,   0,   0,   0,   0,   0,   0,  26, 128,  58,  22,\n",
       "          0,   0,   0,   0, 100, 252, 252,  60,   0,   0,   0,   0,   0,\n",
       "          0,   0],\n",
       "       [  0,   0,   0,   0,   0,   0,   0,   0,   0,   0,   0,   0,   0,\n",
       "          0,   0,   0,   0, 157, 252, 252,  60,   0,   0,   0,   0,   0,\n",
       "          0,   0],\n",
       "       [  0,   0,   0,   0,   0,   0,   0,   0,   0,   0,   0,   0,   0,\n",
       "        110, 121, 122, 121, 202, 252, 194,   3,   0,   0,   0,   0,   0,\n",
       "          0,   0],\n",
       "       [  0,   0,   0,   0,   0,   0,   0,   0,   0,   0,  10,  53, 179,\n",
       "        253, 253, 255, 253, 253, 228,  35,   0,   0,   0,   0,   0,   0,\n",
       "          0,   0],\n",
       "       [  0,   0,   0,   0,   0,   0,   0,   0,   5,  54, 227, 252, 243,\n",
       "        228, 170, 242, 252, 252, 231, 117,   6,   0,   0,   0,   0,   0,\n",
       "          0,   0],\n",
       "       [  0,   0,   0,   0,   0,   0,   0,   6,  78, 252, 252, 125,  59,\n",
       "          0,  18, 208, 252, 252, 252, 252,  87,   7,   0,   0,   0,   0,\n",
       "          0,   0],\n",
       "       [  0,   0,   0,   0,   0,   0,   5, 135, 252, 252, 180,  16,   0,\n",
       "         21, 203, 253, 247, 129, 173, 252, 252, 184,  66,  49,  49,   0,\n",
       "          0,   0],\n",
       "       [  0,   0,   0,   0,   0,   3, 136, 252, 241, 106,  17,   0,  53,\n",
       "        200, 252, 216,  65,   0,  14,  72, 163, 241, 252, 252, 223,   0,\n",
       "          0,   0],\n",
       "       [  0,   0,   0,   0,   0, 105, 252, 242,  88,  18,  73, 170, 244,\n",
       "        252, 126,  29,   0,   0,   0,   0,   0,  89, 180, 180,  37,   0,\n",
       "          0,   0],\n",
       "       [  0,   0,   0,   0,   0, 231, 252, 245, 205, 216, 252, 252, 252,\n",
       "        124,   3,   0,   0,   0,   0,   0,   0,   0,   0,   0,   0,   0,\n",
       "          0,   0],\n",
       "       [  0,   0,   0,   0,   0, 207, 252, 252, 252, 252, 178, 116,  36,\n",
       "          4,   0,   0,   0,   0,   0,   0,   0,   0,   0,   0,   0,   0,\n",
       "          0,   0],\n",
       "       [  0,   0,   0,   0,   0,  13,  93, 143, 121,  23,   6,   0,   0,\n",
       "          0,   0,   0,   0,   0,   0,   0,   0,   0,   0,   0,   0,   0,\n",
       "          0,   0],\n",
       "       [  0,   0,   0,   0,   0,   0,   0,   0,   0,   0,   0,   0,   0,\n",
       "          0,   0,   0,   0,   0,   0,   0,   0,   0,   0,   0,   0,   0,\n",
       "          0,   0],\n",
       "       [  0,   0,   0,   0,   0,   0,   0,   0,   0,   0,   0,   0,   0,\n",
       "          0,   0,   0,   0,   0,   0,   0,   0,   0,   0,   0,   0,   0,\n",
       "          0,   0],\n",
       "       [  0,   0,   0,   0,   0,   0,   0,   0,   0,   0,   0,   0,   0,\n",
       "          0,   0,   0,   0,   0,   0,   0,   0,   0,   0,   0,   0,   0,\n",
       "          0,   0],\n",
       "       [  0,   0,   0,   0,   0,   0,   0,   0,   0,   0,   0,   0,   0,\n",
       "          0,   0,   0,   0,   0,   0,   0,   0,   0,   0,   0,   0,   0,\n",
       "          0,   0],\n",
       "       [  0,   0,   0,   0,   0,   0,   0,   0,   0,   0,   0,   0,   0,\n",
       "          0,   0,   0,   0,   0,   0,   0,   0,   0,   0,   0,   0,   0,\n",
       "          0,   0]], dtype=uint8)"
      ]
     },
     "execution_count": 9,
     "metadata": {},
     "output_type": "execute_result"
    }
   ],
   "source": [
    "X_train_full[5]"
   ]
  },
  {
   "cell_type": "code",
   "execution_count": 10,
   "metadata": {},
   "outputs": [
    {
     "data": {
      "text/plain": [
       "(60000, 28, 28)"
      ]
     },
     "execution_count": 10,
     "metadata": {},
     "output_type": "execute_result"
    }
   ],
   "source": [
    "X_train_full.shape  #This shape is made up of pixels , so there are 60000 arrays in the data set , each ahving 28*28 elements "
   ]
  },
  {
   "cell_type": "code",
   "execution_count": 11,
   "metadata": {},
   "outputs": [
    {
     "name": "stdout",
     "output_type": "stream",
     "text": [
      "data type of X_train_full: uint8,\n",
      "shape of X_train_full: (60000, 28, 28)\n"
     ]
    }
   ],
   "source": [
    "print(f\"data type of X_train_full: {X_train_full.dtype},\\nshape of X_train_full: {X_train_full.shape}\")"
   ]
  },
  {
   "cell_type": "code",
   "execution_count": 12,
   "metadata": {},
   "outputs": [
    {
     "name": "stdout",
     "output_type": "stream",
     "text": [
      "data type of X_train_full: uint8,\n",
      "shape of X_train_full: (60000, 28, 28)\n"
     ]
    }
   ],
   "source": [
    "print(f\"data type of X_train_full: {X_train_full.dtype},\\nshape of X_train_full: {X_train_full.shape}\")"
   ]
  },
  {
   "cell_type": "markdown",
   "metadata": {},
   "source": [
    "### Viewing the single data "
   ]
  },
  {
   "cell_type": "code",
   "execution_count": 13,
   "metadata": {},
   "outputs": [
    {
     "data": {
      "image/png": "[encoded data removed]",
      "text/plain": [
       "<Figure size 432x288 with 1 Axes>"
      ]
     },
     "metadata": {
      "needs_background": "light"
     },
     "output_type": "display_data"
    }
   ],
   "source": [
    "plt.imshow(X_train_full[2000], cmap=\"magma\")\n",
    "plt.axis('off')\n",
    "plt.show()"
   ]
  },
  {
   "cell_type": "code",
   "execution_count": 14,
   "metadata": {},
   "outputs": [
    {
     "data": {
      "image/png": "[encoded data removed]",
      "text/plain": [
       "<Figure size 432x288 with 1 Axes>"
      ]
     },
     "metadata": {
      "needs_background": "light"
     },
     "output_type": "display_data"
    }
   ],
   "source": [
    "plt.imshow(X_train_full[2000], cmap=\"cividis\")\n",
    "plt.axis('off')\n",
    "plt.show()"
   ]
  },
  {
   "cell_type": "code",
   "execution_count": 15,
   "metadata": {},
   "outputs": [],
   "source": [
    "# create a validation data set from the full training data \n",
    "# Scale the data between 0 to 1 by dividing it by 255. as its an unsigned data between 0-255 range\n",
    "X_valid, X_train = X_train_full[:5000] / 255., X_train_full[5000:] / 255.\n",
    "y_valid, y_train = y_train_full[:5000], y_train_full[5000:]\n",
    "\n",
    "# scale the test set as well\n",
    "X_test = X_test / 255.\n",
    "\n",
    " "
   ]
  },
  {
   "cell_type": "markdown",
   "metadata": {},
   "source": [
    "### Now check the normalize data -\n",
    "\n"
   ]
  },
  {
   "cell_type": "code",
   "execution_count": 16,
   "metadata": {},
   "outputs": [
    {
     "data": {
      "text/plain": [
       "array([[0.        , 0.        , 0.        , 0.        , 0.        ,\n",
       "        0.        , 0.        , 0.        , 0.        , 0.        ,\n",
       "        0.        , 0.        , 0.        , 0.        , 0.        ,\n",
       "        0.        , 0.        , 0.        , 0.        , 0.        ,\n",
       "        0.        , 0.        , 0.        , 0.        , 0.        ,\n",
       "        0.        , 0.        , 0.        ],\n",
       "       [0.        , 0.        , 0.        , 0.        , 0.        ,\n",
       "        0.        , 0.        , 0.        , 0.        , 0.        ,\n",
       "        0.        , 0.        , 0.        , 0.        , 0.        ,\n",
       "        0.        , 0.        , 0.        , 0.        , 0.        ,\n",
       "        0.        , 0.        , 0.        , 0.        , 0.        ,\n",
       "        0.        , 0.        , 0.        ],\n",
       "       [0.        , 0.        , 0.        , 0.        , 0.        ,\n",
       "        0.        , 0.        , 0.        , 0.        , 0.        ,\n",
       "        0.        , 0.        , 0.        , 0.        , 0.        ,\n",
       "        0.        , 0.        , 0.        , 0.        , 0.        ,\n",
       "        0.        , 0.        , 0.        , 0.        , 0.        ,\n",
       "        0.        , 0.        , 0.        ],\n",
       "       [0.        , 0.        , 0.        , 0.        , 0.        ,\n",
       "        0.        , 0.        , 0.        , 0.        , 0.        ,\n",
       "        0.        , 0.        , 0.        , 0.        , 0.        ,\n",
       "        0.        , 0.        , 0.        , 0.        , 0.        ,\n",
       "        0.        , 0.        , 0.        , 0.        , 0.        ,\n",
       "        0.        , 0.        , 0.        ],\n",
       "       [0.        , 0.        , 0.        , 0.        , 0.        ,\n",
       "        0.        , 0.        , 0.        , 0.        , 0.        ,\n",
       "        0.        , 0.        , 0.        , 0.        , 0.        ,\n",
       "        0.        , 0.        , 0.        , 0.        , 0.        ,\n",
       "        0.        , 0.        , 0.        , 0.        , 0.        ,\n",
       "        0.        , 0.        , 0.        ],\n",
       "       [0.        , 0.        , 0.        , 0.        , 0.        ,\n",
       "        0.        , 0.        , 0.        , 0.        , 0.        ,\n",
       "        0.        , 0.        , 0.        , 0.        , 0.        ,\n",
       "        0.23137255, 0.63921569, 0.99607843, 0.99607843, 0.99607843,\n",
       "        0.76078431, 0.43921569, 0.07058824, 0.        , 0.        ,\n",
       "        0.        , 0.        , 0.        ],\n",
       "       [0.        , 0.        , 0.        , 0.        , 0.        ,\n",
       "        0.        , 0.        , 0.        , 0.        , 0.        ,\n",
       "        0.        , 0.        , 0.        , 0.01568627, 0.51764706,\n",
       "        0.9372549 , 0.99215686, 0.99215686, 0.99215686, 0.99215686,\n",
       "        0.99607843, 0.99215686, 0.62745098, 0.        , 0.        ,\n",
       "        0.        , 0.        , 0.        ],\n",
       "       [0.        , 0.        , 0.        , 0.        , 0.        ,\n",
       "        0.        , 0.        , 0.        , 0.        , 0.        ,\n",
       "        0.        , 0.        , 0.        , 0.5372549 , 0.99215686,\n",
       "        0.99607843, 0.99215686, 0.99215686, 0.99215686, 0.75294118,\n",
       "        0.99607843, 0.99215686, 0.89803922, 0.05098039, 0.        ,\n",
       "        0.        , 0.        , 0.        ],\n",
       "       [0.        , 0.        , 0.        , 0.        , 0.        ,\n",
       "        0.        , 0.        , 0.        , 0.        , 0.        ,\n",
       "        0.        , 0.01568627, 0.5372549 , 0.98431373, 0.99215686,\n",
       "        0.95686275, 0.50980392, 0.19215686, 0.0745098 , 0.01960784,\n",
       "        0.63921569, 0.99215686, 0.82352941, 0.03529412, 0.        ,\n",
       "        0.        , 0.        , 0.        ],\n",
       "       [0.        , 0.        , 0.        , 0.        , 0.        ,\n",
       "        0.        , 0.        , 0.        , 0.        , 0.        ,\n",
       "        0.        , 0.37254902, 0.99215686, 0.99215686, 0.84313725,\n",
       "        0.17647059, 0.        , 0.        , 0.        , 0.        ,\n",
       "        0.61176471, 0.99215686, 0.68235294, 0.        , 0.        ,\n",
       "        0.        , 0.        , 0.        ],\n",
       "       [0.        , 0.        , 0.        , 0.        , 0.        ,\n",
       "        0.        , 0.        , 0.        , 0.        , 0.        ,\n",
       "        0.        , 0.84313725, 0.99607843, 0.81176471, 0.09019608,\n",
       "        0.        , 0.        , 0.        , 0.03921569, 0.38039216,\n",
       "        0.85098039, 0.91764706, 0.        , 0.        , 0.        ,\n",
       "        0.        , 0.        , 0.        ],\n",
       "       [0.        , 0.        , 0.        , 0.        , 0.        ,\n",
       "        0.        , 0.        , 0.        , 0.        , 0.        ,\n",
       "        0.        , 0.83921569, 0.99215686, 0.27843137, 0.        ,\n",
       "        0.        , 0.00784314, 0.19607843, 0.83529412, 0.99215686,\n",
       "        0.99607843, 0.70588235, 0.        , 0.        , 0.        ,\n",
       "        0.        , 0.        , 0.        ],\n",
       "       [0.        , 0.        , 0.        , 0.        , 0.        ,\n",
       "        0.        , 0.        , 0.        , 0.        , 0.        ,\n",
       "        0.        , 0.83921569, 0.99215686, 0.19215686, 0.        ,\n",
       "        0.        , 0.19607843, 0.99215686, 0.99215686, 0.99215686,\n",
       "        0.71764706, 0.04705882, 0.        , 0.        , 0.        ,\n",
       "        0.        , 0.        , 0.        ],\n",
       "       [0.        , 0.        , 0.        , 0.        , 0.        ,\n",
       "        0.        , 0.        , 0.        , 0.        , 0.        ,\n",
       "        0.        , 0.78039216, 0.99215686, 0.95294118, 0.76862745,\n",
       "        0.62352941, 0.95294118, 0.99215686, 0.96862745, 0.54117647,\n",
       "        0.03137255, 0.        , 0.        , 0.        , 0.        ,\n",
       "        0.        , 0.        , 0.        ],\n",
       "       [0.        , 0.        , 0.        , 0.        , 0.        ,\n",
       "        0.        , 0.        , 0.        , 0.        , 0.        ,\n",
       "        0.        , 0.16470588, 0.99215686, 0.99215686, 0.99215686,\n",
       "        0.99607843, 0.99215686, 0.99215686, 0.39607843, 0.        ,\n",
       "        0.        , 0.        , 0.        , 0.        , 0.        ,\n",
       "        0.        , 0.        , 0.        ],\n",
       "       [0.        , 0.        , 0.        , 0.        , 0.        ,\n",
       "        0.        , 0.        , 0.        , 0.        , 0.        ,\n",
       "        0.23137255, 0.58431373, 0.99607843, 0.99607843, 0.99607843,\n",
       "        1.        , 0.99607843, 0.68627451, 0.        , 0.        ,\n",
       "        0.        , 0.        , 0.        , 0.        , 0.        ,\n",
       "        0.        , 0.        , 0.        ],\n",
       "       [0.        , 0.        , 0.        , 0.        , 0.        ,\n",
       "        0.        , 0.        , 0.        , 0.13333333, 0.75294118,\n",
       "        0.99607843, 0.99215686, 0.99215686, 0.99215686, 0.78431373,\n",
       "        0.53333333, 0.89019608, 0.94509804, 0.27058824, 0.        ,\n",
       "        0.        , 0.        , 0.        , 0.        , 0.        ,\n",
       "        0.        , 0.        , 0.        ],\n",
       "       [0.        , 0.        , 0.        , 0.        , 0.        ,\n",
       "        0.        , 0.        , 0.33333333, 0.96862745, 0.99215686,\n",
       "        0.99607843, 0.99215686, 0.77647059, 0.48235294, 0.07058824,\n",
       "        0.        , 0.19607843, 0.99215686, 0.83529412, 0.        ,\n",
       "        0.        , 0.        , 0.        , 0.        , 0.        ,\n",
       "        0.        , 0.        , 0.        ],\n",
       "       [0.        , 0.        , 0.        , 0.        , 0.        ,\n",
       "        0.        , 0.27843137, 0.96862745, 0.99215686, 0.92941176,\n",
       "        0.75294118, 0.27843137, 0.02352941, 0.        , 0.        ,\n",
       "        0.        , 0.00784314, 0.50196078, 0.98039216, 0.21176471,\n",
       "        0.        , 0.        , 0.        , 0.        , 0.        ,\n",
       "        0.        , 0.        , 0.        ],\n",
       "       [0.        , 0.        , 0.        , 0.        , 0.        ,\n",
       "        0.        , 0.4627451 , 0.99215686, 0.87058824, 0.14117647,\n",
       "        0.        , 0.        , 0.        , 0.        , 0.        ,\n",
       "        0.        , 0.03137255, 0.71764706, 0.99215686, 0.22745098,\n",
       "        0.        , 0.        , 0.        , 0.        , 0.        ,\n",
       "        0.        , 0.        , 0.        ],\n",
       "       [0.        , 0.        , 0.        , 0.        , 0.        ,\n",
       "        0.        , 0.4627451 , 0.99607843, 0.54509804, 0.        ,\n",
       "        0.        , 0.        , 0.        , 0.        , 0.        ,\n",
       "        0.05490196, 0.72941176, 0.99607843, 0.99607843, 0.22745098,\n",
       "        0.        , 0.        , 0.        , 0.        , 0.        ,\n",
       "        0.        , 0.        , 0.        ],\n",
       "       [0.        , 0.        , 0.        , 0.        , 0.        ,\n",
       "        0.        , 0.27843137, 0.96862745, 0.96862745, 0.54509804,\n",
       "        0.0627451 , 0.        , 0.        , 0.0745098 , 0.22745098,\n",
       "        0.87843137, 0.99215686, 0.99215686, 0.83137255, 0.03529412,\n",
       "        0.        , 0.        , 0.        , 0.        , 0.        ,\n",
       "        0.        , 0.        , 0.        ],\n",
       "       [0.        , 0.        , 0.        , 0.        , 0.        ,\n",
       "        0.        , 0.        , 0.42352941, 0.99215686, 0.99215686,\n",
       "        0.9254902 , 0.68627451, 0.68627451, 0.96862745, 0.99215686,\n",
       "        0.99607843, 0.99215686, 0.77647059, 0.16862745, 0.        ,\n",
       "        0.        , 0.        , 0.        , 0.        , 0.        ,\n",
       "        0.        , 0.        , 0.        ],\n",
       "       [0.        , 0.        , 0.        , 0.        , 0.        ,\n",
       "        0.        , 0.        , 0.2627451 , 0.83529412, 0.89803922,\n",
       "        0.99607843, 0.99215686, 0.99215686, 0.99215686, 0.99215686,\n",
       "        0.83921569, 0.48627451, 0.02352941, 0.        , 0.        ,\n",
       "        0.        , 0.        , 0.        , 0.        , 0.        ,\n",
       "        0.        , 0.        , 0.        ],\n",
       "       [0.        , 0.        , 0.        , 0.        , 0.        ,\n",
       "        0.        , 0.        , 0.        , 0.        , 0.09019608,\n",
       "        0.60784314, 0.60784314, 0.8745098 , 0.78431373, 0.4627451 ,\n",
       "        0.        , 0.        , 0.        , 0.        , 0.        ,\n",
       "        0.        , 0.        , 0.        , 0.        , 0.        ,\n",
       "        0.        , 0.        , 0.        ],\n",
       "       [0.        , 0.        , 0.        , 0.        , 0.        ,\n",
       "        0.        , 0.        , 0.        , 0.        , 0.        ,\n",
       "        0.        , 0.        , 0.        , 0.        , 0.        ,\n",
       "        0.        , 0.        , 0.        , 0.        , 0.        ,\n",
       "        0.        , 0.        , 0.        , 0.        , 0.        ,\n",
       "        0.        , 0.        , 0.        ],\n",
       "       [0.        , 0.        , 0.        , 0.        , 0.        ,\n",
       "        0.        , 0.        , 0.        , 0.        , 0.        ,\n",
       "        0.        , 0.        , 0.        , 0.        , 0.        ,\n",
       "        0.        , 0.        , 0.        , 0.        , 0.        ,\n",
       "        0.        , 0.        , 0.        , 0.        , 0.        ,\n",
       "        0.        , 0.        , 0.        ],\n",
       "       [0.        , 0.        , 0.        , 0.        , 0.        ,\n",
       "        0.        , 0.        , 0.        , 0.        , 0.        ,\n",
       "        0.        , 0.        , 0.        , 0.        , 0.        ,\n",
       "        0.        , 0.        , 0.        , 0.        , 0.        ,\n",
       "        0.        , 0.        , 0.        , 0.        , 0.        ,\n",
       "        0.        , 0.        , 0.        ]])"
      ]
     },
     "execution_count": 16,
     "metadata": {},
     "output_type": "execute_result"
    }
   ],
   "source": [
    "X_train[5]"
   ]
  },
  {
   "cell_type": "code",
   "execution_count": 17,
   "metadata": {},
   "outputs": [
    {
     "data": {
      "text/plain": [
       "<matplotlib.axes._subplots.AxesSubplot at 0x2168e0a6608>"
      ]
     },
     "execution_count": 17,
     "metadata": {},
     "output_type": "execute_result"
    },
    {
     "data": {
      "image/png": "[encoded data removed]",
      "text/plain": [
       "<Figure size 1080x1080 with 2 Axes>"
      ]
     },
     "metadata": {
      "needs_background": "light"
     },
     "output_type": "display_data"
    }
   ],
   "source": [
    "plt.figure(figsize=(15,15))\n",
    "sns.heatmap(X_train[9000], annot=True, cmap=\"binary\")"
   ]
  },
  {
   "cell_type": "code",
   "execution_count": 18,
   "metadata": {},
   "outputs": [],
   "source": [
    "LAYERS = [tf.keras.layers.Flatten(input_shape=[28, 28], name=\"inputLayer\"),\n",
    "          tf.keras.layers.Dense(300, activation=\"relu\", name=\"hiddenLayer1\"),\n",
    "          tf.keras.layers.Dense(100, activation=\"relu\", name=\"hiddenLayer2\"),\n",
    "          tf.keras.layers.Dense(100, activation=\"relu\", name=\"hiddenLayer3\"),\n",
    "          tf.keras.layers.Dense(100, activation=\"relu\", name=\"hiddenLayer4\"),\n",
    "          tf.keras.layers.Dense(100, activation=\"relu\", name=\"hiddenLayer5\"),\n",
    "          tf.keras.layers.Dense(100, activation=\"relu\", name=\"hiddenLayer6\"),\n",
    "          tf.keras.layers.Dense(100, activation=\"relu\", name=\"hiddenLayer7\"),\n",
    "          tf.keras.layers.Dense(100, activation=\"relu\", name=\"hiddenLayer8\"),\n",
    "          tf.keras.layers.Dense(10, activation=\"softmax\", name=\"outputLayer\")]\n",
    "\n",
    "model_clf = tf.keras.models.Sequential(LAYERS)"
   ]
  },
  {
   "cell_type": "markdown",
   "metadata": {},
   "source": [
    "Initially we provide the input layer and the shape we provide is 28, 28 , then we create hidden layers , and finally output layers , 300, 100 represents neurons . These are experimental methods, no hard and fast rule , you have to check. Models.sequential helps to pass your layers in the network. "
   ]
  },
  {
   "cell_type": "code",
   "execution_count": 19,
   "metadata": {},
   "outputs": [
    {
     "data": {
      "text/plain": [
       "[<tensorflow.python.keras.layers.core.Flatten at 0x216a87b6dc8>,\n",
       " <tensorflow.python.keras.layers.core.Dense at 0x216a87c1308>,\n",
       " <tensorflow.python.keras.layers.core.Dense at 0x216a87c1588>,\n",
       " <tensorflow.python.keras.layers.core.Dense at 0x216a87c17c8>,\n",
       " <tensorflow.python.keras.layers.core.Dense at 0x216a87c1c08>,\n",
       " <tensorflow.python.keras.layers.core.Dense at 0x216a87bb148>,\n",
       " <tensorflow.python.keras.layers.core.Dense at 0x216a87bb648>,\n",
       " <tensorflow.python.keras.layers.core.Dense at 0x216a87bbb48>,\n",
       " <tensorflow.python.keras.layers.core.Dense at 0x216a87bcf48>,\n",
       " <tensorflow.python.keras.layers.core.Dense at 0x216a87bc6c8>]"
      ]
     },
     "execution_count": 19,
     "metadata": {},
     "output_type": "execute_result"
    }
   ],
   "source": [
    "model_clf.layers"
   ]
  },
  {
   "cell_type": "markdown",
   "metadata": {},
   "source": [
    "### This will simply provide the information of the layers"
   ]
  },
  {
   "cell_type": "code",
   "execution_count": 20,
   "metadata": {},
   "outputs": [
    {
     "name": "stdout",
     "output_type": "stream",
     "text": [
      "Model: \"sequential\"\n",
      "_________________________________________________________________\n",
      "Layer (type)                 Output Shape              Param #   \n",
      "=================================================================\n",
      "inputLayer (Flatten)         (None, 784)               0         \n",
      "_________________________________________________________________\n",
      "hiddenLayer1 (Dense)         (None, 300)               235500    \n",
      "_________________________________________________________________\n",
      "hiddenLayer2 (Dense)         (None, 100)               30100     \n",
      "_________________________________________________________________\n",
      "hiddenLayer3 (Dense)         (None, 100)               10100     \n",
      "_________________________________________________________________\n",
      "hiddenLayer4 (Dense)         (None, 100)               10100     \n",
      "_________________________________________________________________\n",
      "hiddenLayer5 (Dense)         (None, 100)               10100     \n",
      "_________________________________________________________________\n",
      "hiddenLayer6 (Dense)         (None, 100)               10100     \n",
      "_________________________________________________________________\n",
      "hiddenLayer7 (Dense)         (None, 100)               10100     \n",
      "_________________________________________________________________\n",
      "hiddenLayer8 (Dense)         (None, 100)               10100     \n",
      "_________________________________________________________________\n",
      "outputLayer (Dense)          (None, 10)                1010      \n",
      "=================================================================\n",
      "Total params: 327,210\n",
      "Trainable params: 327,210\n",
      "Non-trainable params: 0\n",
      "_________________________________________________________________\n"
     ]
    }
   ],
   "source": [
    "model_clf.summary()"
   ]
  },
  {
   "cell_type": "markdown",
   "metadata": {},
   "source": [
    "### This shows number of parammeters or wiegths which are involved in the calculation \n",
    "\n",
    "how to calculate = 300(No of neurons) * (28*28)"
   ]
  },
  {
   "cell_type": "code",
   "execution_count": 21,
   "metadata": {},
   "outputs": [
    {
     "data": {
      "text/plain": [
       "'hiddenLayer1'"
      ]
     },
     "execution_count": 21,
     "metadata": {},
     "output_type": "execute_result"
    }
   ],
   "source": [
    "hidden1 = model_clf.layers[1]\n",
    "hidden1.name"
   ]
  },
  {
   "cell_type": "code",
   "execution_count": 22,
   "metadata": {},
   "outputs": [
    {
     "data": {
      "text/plain": [
       "list"
      ]
     },
     "execution_count": 22,
     "metadata": {},
     "output_type": "execute_result"
    }
   ],
   "source": [
    "type(hidden1.get_weights())"
   ]
  },
  {
   "cell_type": "code",
   "execution_count": 23,
   "metadata": {},
   "outputs": [
    {
     "data": {
      "text/plain": [
       "[array([[-0.0394273 , -0.04321682,  0.00766298, ..., -0.04654892,\n",
       "          0.02372631,  0.01206744],\n",
       "        [ 0.06070064, -0.05351225,  0.02546056, ...,  0.03530812,\n",
       "          0.0250326 ,  0.03350189],\n",
       "        [ 0.03476635, -0.07091168,  0.03706688, ..., -0.00322495,\n",
       "         -0.03397161,  0.06231429],\n",
       "        ...,\n",
       "        [ 0.06624441, -0.0456138 , -0.06946386, ...,  0.04461066,\n",
       "          0.03325222,  0.04411938],\n",
       "        [ 0.02321351, -0.05401164,  0.04416703, ...,  0.00189291,\n",
       "          0.0123415 , -0.02951488],\n",
       "        [ 0.05396719,  0.02491108, -0.02180328, ...,  0.0736848 ,\n",
       "          0.02567038,  0.02953363]], dtype=float32),\n",
       " array([0., 0., 0., 0., 0., 0., 0., 0., 0., 0., 0., 0., 0., 0., 0., 0., 0.,\n",
       "        0., 0., 0., 0., 0., 0., 0., 0., 0., 0., 0., 0., 0., 0., 0., 0., 0.,\n",
       "        0., 0., 0., 0., 0., 0., 0., 0., 0., 0., 0., 0., 0., 0., 0., 0., 0.,\n",
       "        0., 0., 0., 0., 0., 0., 0., 0., 0., 0., 0., 0., 0., 0., 0., 0., 0.,\n",
       "        0., 0., 0., 0., 0., 0., 0., 0., 0., 0., 0., 0., 0., 0., 0., 0., 0.,\n",
       "        0., 0., 0., 0., 0., 0., 0., 0., 0., 0., 0., 0., 0., 0., 0., 0., 0.,\n",
       "        0., 0., 0., 0., 0., 0., 0., 0., 0., 0., 0., 0., 0., 0., 0., 0., 0.,\n",
       "        0., 0., 0., 0., 0., 0., 0., 0., 0., 0., 0., 0., 0., 0., 0., 0., 0.,\n",
       "        0., 0., 0., 0., 0., 0., 0., 0., 0., 0., 0., 0., 0., 0., 0., 0., 0.,\n",
       "        0., 0., 0., 0., 0., 0., 0., 0., 0., 0., 0., 0., 0., 0., 0., 0., 0.,\n",
       "        0., 0., 0., 0., 0., 0., 0., 0., 0., 0., 0., 0., 0., 0., 0., 0., 0.,\n",
       "        0., 0., 0., 0., 0., 0., 0., 0., 0., 0., 0., 0., 0., 0., 0., 0., 0.,\n",
       "        0., 0., 0., 0., 0., 0., 0., 0., 0., 0., 0., 0., 0., 0., 0., 0., 0.,\n",
       "        0., 0., 0., 0., 0., 0., 0., 0., 0., 0., 0., 0., 0., 0., 0., 0., 0.,\n",
       "        0., 0., 0., 0., 0., 0., 0., 0., 0., 0., 0., 0., 0., 0., 0., 0., 0.,\n",
       "        0., 0., 0., 0., 0., 0., 0., 0., 0., 0., 0., 0., 0., 0., 0., 0., 0.,\n",
       "        0., 0., 0., 0., 0., 0., 0., 0., 0., 0., 0., 0., 0., 0., 0., 0., 0.,\n",
       "        0., 0., 0., 0., 0., 0., 0., 0., 0., 0., 0.], dtype=float32)]"
      ]
     },
     "execution_count": 23,
     "metadata": {},
     "output_type": "execute_result"
    }
   ],
   "source": [
    "hidden1.get_weights()"
   ]
  },
  {
   "cell_type": "code",
   "execution_count": 24,
   "metadata": {},
   "outputs": [],
   "source": [
    "weights, biases = hidden1.get_weights()"
   ]
  },
  {
   "cell_type": "code",
   "execution_count": 25,
   "metadata": {},
   "outputs": [
    {
     "data": {
      "text/plain": [
       "(784, 300)"
      ]
     },
     "execution_count": 25,
     "metadata": {},
     "output_type": "execute_result"
    }
   ],
   "source": [
    "weights.shape"
   ]
  },
  {
   "cell_type": "markdown",
   "metadata": {},
   "source": [
    "Both weights and biases have to be called upon in order to get weights. "
   ]
  },
  {
   "cell_type": "code",
   "execution_count": 26,
   "metadata": {},
   "outputs": [
    {
     "data": {
      "text/plain": [
       "(300,)"
      ]
     },
     "execution_count": 26,
     "metadata": {},
     "output_type": "execute_result"
    }
   ],
   "source": [
    "biases.shape"
   ]
  },
  {
   "cell_type": "code",
   "execution_count": 27,
   "metadata": {},
   "outputs": [],
   "source": [
    "LOSS_FUNCTION = \"sparse_categorical_crossentropy\" # use => tf.losses.sparse_categorical_crossentropy\n",
    "OPTIMIZER = \"SGD\" # or use with custom learning rate=> tf.keras.optimizers.SGD(0.02)\n",
    "METRICS = [\"accuracy\"]\n",
    "\n",
    "model_clf.compile(loss=LOSS_FUNCTION,\n",
    "              optimizer=OPTIMIZER,\n",
    "              metrics=METRICS)\n",
    "\n"
   ]
  },
  {
   "cell_type": "code",
   "execution_count": 28,
   "metadata": {},
   "outputs": [
    {
     "name": "stdout",
     "output_type": "stream",
     "text": [
      "Train on 55000 samples, validate on 5000 samples\n",
      "Epoch 1/30\n",
      "55000/55000 [==============================] - 15s 268us/sample - loss: 1.1752 - accuracy: 0.5935 - val_loss: 0.3433 - val_accuracy: 0.8980\n",
      "Epoch 2/30\n",
      "55000/55000 [==============================] - 13s 238us/sample - loss: 0.2652 - accuracy: 0.9220 - val_loss: 0.1879 - val_accuracy: 0.9470\n",
      "Epoch 3/30\n",
      "55000/55000 [==============================] - 14s 251us/sample - loss: 0.1687 - accuracy: 0.9513 - val_loss: 0.1365 - val_accuracy: 0.9596\n",
      "Epoch 4/30\n",
      "55000/55000 [==============================] - 14s 251us/sample - loss: 0.1236 - accuracy: 0.9638 - val_loss: 0.1260 - val_accuracy: 0.9628\n",
      "Epoch 5/30\n",
      "55000/55000 [==============================] - 13s 242us/sample - loss: 0.0982 - accuracy: 0.9711 - val_loss: 0.1111 - val_accuracy: 0.9658\n",
      "Epoch 6/30\n",
      "55000/55000 [==============================] - 13s 232us/sample - loss: 0.0797 - accuracy: 0.9766 - val_loss: 0.1122 - val_accuracy: 0.9676\n",
      "Epoch 7/30\n",
      "55000/55000 [==============================] - 12s 224us/sample - loss: 0.0655 - accuracy: 0.9804 - val_loss: 0.0877 - val_accuracy: 0.9744\n",
      "Epoch 8/30\n",
      "55000/55000 [==============================] - 12s 211us/sample - loss: 0.0537 - accuracy: 0.9838 - val_loss: 0.0866 - val_accuracy: 0.9736\n",
      "Epoch 9/30\n",
      "55000/55000 [==============================] - 12s 220us/sample - loss: 0.0449 - accuracy: 0.9868 - val_loss: 0.0948 - val_accuracy: 0.9732\n",
      "Epoch 10/30\n",
      "55000/55000 [==============================] - 12s 221us/sample - loss: 0.0362 - accuracy: 0.9893 - val_loss: 0.0919 - val_accuracy: 0.9738\n",
      "Epoch 11/30\n",
      "55000/55000 [==============================] - 12s 221us/sample - loss: 0.0300 - accuracy: 0.9910 - val_loss: 0.0924 - val_accuracy: 0.9758\n",
      "Epoch 12/30\n",
      "55000/55000 [==============================] - 11s 201us/sample - loss: 0.0265 - accuracy: 0.9921 - val_loss: 0.0951 - val_accuracy: 0.9758\n",
      "Epoch 13/30\n",
      "55000/55000 [==============================] - 14s 261us/sample - loss: 0.0190 - accuracy: 0.9946 - val_loss: 0.0878 - val_accuracy: 0.9776\n",
      "Epoch 14/30\n",
      "55000/55000 [==============================] - 14s 259us/sample - loss: 0.0169 - accuracy: 0.9953 - val_loss: 0.0871 - val_accuracy: 0.9782\n",
      "Epoch 15/30\n",
      "55000/55000 [==============================] - 13s 241us/sample - loss: 0.0138 - accuracy: 0.9961 - val_loss: 0.1032 - val_accuracy: 0.9760\n",
      "Epoch 16/30\n",
      "55000/55000 [==============================] - 12s 226us/sample - loss: 0.0120 - accuracy: 0.9969 - val_loss: 0.0930 - val_accuracy: 0.9772\n",
      "Epoch 17/30\n",
      "55000/55000 [==============================] - 11s 200us/sample - loss: 0.0066 - accuracy: 0.9986 - val_loss: 0.1145 - val_accuracy: 0.9752\n",
      "Epoch 18/30\n",
      "55000/55000 [==============================] - 14s 256us/sample - loss: 0.0070 - accuracy: 0.9982 - val_loss: 0.1076 - val_accuracy: 0.9748\n",
      "Epoch 19/30\n",
      "55000/55000 [==============================] - 14s 263us/sample - loss: 0.0058 - accuracy: 0.9985 - val_loss: 0.1022 - val_accuracy: 0.9764\n",
      "Epoch 20/30\n",
      "55000/55000 [==============================] - 14s 261us/sample - loss: 0.0048 - accuracy: 0.9988 - val_loss: 0.1167 - val_accuracy: 0.9748\n",
      "Epoch 21/30\n",
      "55000/55000 [==============================] - 14s 254us/sample - loss: 0.0039 - accuracy: 0.9991 - val_loss: 0.1002 - val_accuracy: 0.9798\n",
      "Epoch 22/30\n",
      "55000/55000 [==============================] - 13s 229us/sample - loss: 0.0033 - accuracy: 0.9991 - val_loss: 0.1030 - val_accuracy: 0.9778\n",
      "Epoch 23/30\n",
      "55000/55000 [==============================] - 13s 236us/sample - loss: 0.0052 - accuracy: 0.9985 - val_loss: 0.1108 - val_accuracy: 0.9786\n",
      "Epoch 24/30\n",
      "55000/55000 [==============================] - 13s 232us/sample - loss: 0.0053 - accuracy: 0.9985 - val_loss: 0.1314 - val_accuracy: 0.9754\n",
      "Epoch 25/30\n",
      "55000/55000 [==============================] - 13s 240us/sample - loss: 0.0026 - accuracy: 0.9993 - val_loss: 0.1292 - val_accuracy: 0.9756\n",
      "Epoch 26/30\n",
      "55000/55000 [==============================] - 13s 236us/sample - loss: 0.0141 - accuracy: 0.9956 - val_loss: 0.1195 - val_accuracy: 0.9764\n",
      "Epoch 27/30\n",
      "55000/55000 [==============================] - 13s 233us/sample - loss: 0.0084 - accuracy: 0.9973 - val_loss: 0.1353 - val_accuracy: 0.9732\n",
      "Epoch 28/30\n",
      "55000/55000 [==============================] - 13s 238us/sample - loss: 0.0055 - accuracy: 0.9981 - val_loss: 0.1276 - val_accuracy: 0.9768\n",
      "Epoch 29/30\n",
      "55000/55000 [==============================] - 13s 236us/sample - loss: 0.0028 - accuracy: 0.9993 - val_loss: 0.1041 - val_accuracy: 0.9812\n",
      "Epoch 30/30\n",
      "55000/55000 [==============================] - 13s 237us/sample - loss: 4.1265e-04 - accuracy: 0.9999 - val_loss: 0.1030 - val_accuracy: 0.9824\n"
     ]
    }
   ],
   "source": [
    "EPOCHS = 30\n",
    "VALIDATION_SET = (X_valid, y_valid)\n",
    "\n",
    "history = model_clf.fit(X_train, y_train, epochs=EPOCHS,\n",
    "                    validation_data=VALIDATION_SET)\n"
   ]
  },
  {
   "cell_type": "markdown",
   "metadata": {},
   "source": [
    "### Accuracy increased from 62% to 99.9 %"
   ]
  },
  {
   "cell_type": "code",
   "execution_count": 29,
   "metadata": {},
   "outputs": [],
   "source": [
    "import time\n",
    "import os\n",
    "\n",
    "def saveModel_path(model_dir=\"SAVED_MODELS\"):\n",
    "    os.makedirs(model_dir, exist_ok=True)\n",
    "    fileName = time.strftime(\"Model_%Y_%m_%d_%H_%M_%S_.h5\")    \n",
    "    model_path = os.path.join(model_dir, fileName)\n",
    "    print(f\"your model will be saved at the following location\\n{model_path}\")\n",
    "    return model_path"
   ]
  },
  {
   "cell_type": "code",
   "execution_count": 30,
   "metadata": {},
   "outputs": [
    {
     "name": "stdout",
     "output_type": "stream",
     "text": [
      "your model will be saved at the following location\n",
      "SAVED_MODELS\\Model_2020_11_23_21_39_25_.h5\n"
     ]
    }
   ],
   "source": [
    "UNIQUE_PATH = model_clf.save(saveModel_path())"
   ]
  },
  {
   "cell_type": "code",
   "execution_count": 31,
   "metadata": {},
   "outputs": [
    {
     "data": {
      "text/plain": [
       "{'batch_size': 32,\n",
       " 'epochs': 30,\n",
       " 'steps': 1719,\n",
       " 'samples': 55000,\n",
       " 'verbose': 0,\n",
       " 'do_validation': True,\n",
       " 'metrics': ['loss', 'accuracy', 'val_loss', 'val_accuracy']}"
      ]
     },
     "execution_count": 31,
     "metadata": {},
     "output_type": "execute_result"
    }
   ],
   "source": [
    "history.params\n"
   ]
  },
  {
   "cell_type": "markdown",
   "metadata": {},
   "source": [
    "![title](img/neutron.png)"
   ]
  },
  {
   "cell_type": "code",
   "execution_count": 32,
   "metadata": {},
   "outputs": [
    {
     "data": {
      "text/html": [
       "<div>\n",
       "<style scoped>\n",
       "    .dataframe tbody tr th:only-of-type {\n",
       "        vertical-align: middle;\n",
       "    }\n",
       "\n",
       "    .dataframe tbody tr th {\n",
       "        vertical-align: top;\n",
       "    }\n",
       "\n",
       "    .dataframe thead th {\n",
       "        text-align: right;\n",
       "    }\n",
       "</style>\n",
       "<table border=\"1\" class=\"dataframe\">\n",
       "  <thead>\n",
       "    <tr style=\"text-align: right;\">\n",
       "      <th></th>\n",
       "      <th>loss</th>\n",
       "      <th>accuracy</th>\n",
       "      <th>val_loss</th>\n",
       "      <th>val_accuracy</th>\n",
       "    </tr>\n",
       "  </thead>\n",
       "  <tbody>\n",
       "    <tr>\n",
       "      <td>0</td>\n",
       "      <td>1.175169</td>\n",
       "      <td>0.593509</td>\n",
       "      <td>0.343263</td>\n",
       "      <td>0.8980</td>\n",
       "    </tr>\n",
       "    <tr>\n",
       "      <td>1</td>\n",
       "      <td>0.265213</td>\n",
       "      <td>0.921964</td>\n",
       "      <td>0.187893</td>\n",
       "      <td>0.9470</td>\n",
       "    </tr>\n",
       "    <tr>\n",
       "      <td>2</td>\n",
       "      <td>0.168673</td>\n",
       "      <td>0.951327</td>\n",
       "      <td>0.136510</td>\n",
       "      <td>0.9596</td>\n",
       "    </tr>\n",
       "    <tr>\n",
       "      <td>3</td>\n",
       "      <td>0.123592</td>\n",
       "      <td>0.963836</td>\n",
       "      <td>0.126022</td>\n",
       "      <td>0.9628</td>\n",
       "    </tr>\n",
       "    <tr>\n",
       "      <td>4</td>\n",
       "      <td>0.098165</td>\n",
       "      <td>0.971091</td>\n",
       "      <td>0.111134</td>\n",
       "      <td>0.9658</td>\n",
       "    </tr>\n",
       "    <tr>\n",
       "      <td>5</td>\n",
       "      <td>0.079695</td>\n",
       "      <td>0.976618</td>\n",
       "      <td>0.112187</td>\n",
       "      <td>0.9676</td>\n",
       "    </tr>\n",
       "    <tr>\n",
       "      <td>6</td>\n",
       "      <td>0.065464</td>\n",
       "      <td>0.980400</td>\n",
       "      <td>0.087736</td>\n",
       "      <td>0.9744</td>\n",
       "    </tr>\n",
       "    <tr>\n",
       "      <td>7</td>\n",
       "      <td>0.053740</td>\n",
       "      <td>0.983782</td>\n",
       "      <td>0.086578</td>\n",
       "      <td>0.9736</td>\n",
       "    </tr>\n",
       "    <tr>\n",
       "      <td>8</td>\n",
       "      <td>0.044924</td>\n",
       "      <td>0.986836</td>\n",
       "      <td>0.094817</td>\n",
       "      <td>0.9732</td>\n",
       "    </tr>\n",
       "    <tr>\n",
       "      <td>9</td>\n",
       "      <td>0.036201</td>\n",
       "      <td>0.989345</td>\n",
       "      <td>0.091885</td>\n",
       "      <td>0.9738</td>\n",
       "    </tr>\n",
       "    <tr>\n",
       "      <td>10</td>\n",
       "      <td>0.030011</td>\n",
       "      <td>0.990964</td>\n",
       "      <td>0.092436</td>\n",
       "      <td>0.9758</td>\n",
       "    </tr>\n",
       "    <tr>\n",
       "      <td>11</td>\n",
       "      <td>0.026496</td>\n",
       "      <td>0.992109</td>\n",
       "      <td>0.095056</td>\n",
       "      <td>0.9758</td>\n",
       "    </tr>\n",
       "    <tr>\n",
       "      <td>12</td>\n",
       "      <td>0.018956</td>\n",
       "      <td>0.994636</td>\n",
       "      <td>0.087850</td>\n",
       "      <td>0.9776</td>\n",
       "    </tr>\n",
       "    <tr>\n",
       "      <td>13</td>\n",
       "      <td>0.016856</td>\n",
       "      <td>0.995291</td>\n",
       "      <td>0.087113</td>\n",
       "      <td>0.9782</td>\n",
       "    </tr>\n",
       "    <tr>\n",
       "      <td>14</td>\n",
       "      <td>0.013775</td>\n",
       "      <td>0.996055</td>\n",
       "      <td>0.103209</td>\n",
       "      <td>0.9760</td>\n",
       "    </tr>\n",
       "    <tr>\n",
       "      <td>15</td>\n",
       "      <td>0.011973</td>\n",
       "      <td>0.996927</td>\n",
       "      <td>0.092969</td>\n",
       "      <td>0.9772</td>\n",
       "    </tr>\n",
       "    <tr>\n",
       "      <td>16</td>\n",
       "      <td>0.006608</td>\n",
       "      <td>0.998636</td>\n",
       "      <td>0.114532</td>\n",
       "      <td>0.9752</td>\n",
       "    </tr>\n",
       "    <tr>\n",
       "      <td>17</td>\n",
       "      <td>0.007048</td>\n",
       "      <td>0.998236</td>\n",
       "      <td>0.107640</td>\n",
       "      <td>0.9748</td>\n",
       "    </tr>\n",
       "    <tr>\n",
       "      <td>18</td>\n",
       "      <td>0.005777</td>\n",
       "      <td>0.998527</td>\n",
       "      <td>0.102179</td>\n",
       "      <td>0.9764</td>\n",
       "    </tr>\n",
       "    <tr>\n",
       "      <td>19</td>\n",
       "      <td>0.004792</td>\n",
       "      <td>0.998764</td>\n",
       "      <td>0.116716</td>\n",
       "      <td>0.9748</td>\n",
       "    </tr>\n",
       "    <tr>\n",
       "      <td>20</td>\n",
       "      <td>0.003895</td>\n",
       "      <td>0.999145</td>\n",
       "      <td>0.100156</td>\n",
       "      <td>0.9798</td>\n",
       "    </tr>\n",
       "    <tr>\n",
       "      <td>21</td>\n",
       "      <td>0.003270</td>\n",
       "      <td>0.999073</td>\n",
       "      <td>0.103010</td>\n",
       "      <td>0.9778</td>\n",
       "    </tr>\n",
       "    <tr>\n",
       "      <td>22</td>\n",
       "      <td>0.005161</td>\n",
       "      <td>0.998491</td>\n",
       "      <td>0.110768</td>\n",
       "      <td>0.9786</td>\n",
       "    </tr>\n",
       "    <tr>\n",
       "      <td>23</td>\n",
       "      <td>0.005310</td>\n",
       "      <td>0.998545</td>\n",
       "      <td>0.131399</td>\n",
       "      <td>0.9754</td>\n",
       "    </tr>\n",
       "    <tr>\n",
       "      <td>24</td>\n",
       "      <td>0.002646</td>\n",
       "      <td>0.999327</td>\n",
       "      <td>0.129231</td>\n",
       "      <td>0.9756</td>\n",
       "    </tr>\n",
       "    <tr>\n",
       "      <td>25</td>\n",
       "      <td>0.014116</td>\n",
       "      <td>0.995600</td>\n",
       "      <td>0.119540</td>\n",
       "      <td>0.9764</td>\n",
       "    </tr>\n",
       "    <tr>\n",
       "      <td>26</td>\n",
       "      <td>0.008423</td>\n",
       "      <td>0.997345</td>\n",
       "      <td>0.135325</td>\n",
       "      <td>0.9732</td>\n",
       "    </tr>\n",
       "    <tr>\n",
       "      <td>27</td>\n",
       "      <td>0.005515</td>\n",
       "      <td>0.998127</td>\n",
       "      <td>0.127591</td>\n",
       "      <td>0.9768</td>\n",
       "    </tr>\n",
       "    <tr>\n",
       "      <td>28</td>\n",
       "      <td>0.002781</td>\n",
       "      <td>0.999255</td>\n",
       "      <td>0.104098</td>\n",
       "      <td>0.9812</td>\n",
       "    </tr>\n",
       "    <tr>\n",
       "      <td>29</td>\n",
       "      <td>0.000413</td>\n",
       "      <td>0.999945</td>\n",
       "      <td>0.102968</td>\n",
       "      <td>0.9824</td>\n",
       "    </tr>\n",
       "  </tbody>\n",
       "</table>\n",
       "</div>"
      ],
      "text/plain": [
       "        loss  accuracy  val_loss  val_accuracy\n",
       "0   1.175169  0.593509  0.343263        0.8980\n",
       "1   0.265213  0.921964  0.187893        0.9470\n",
       "2   0.168673  0.951327  0.136510        0.9596\n",
       "3   0.123592  0.963836  0.126022        0.9628\n",
       "4   0.098165  0.971091  0.111134        0.9658\n",
       "5   0.079695  0.976618  0.112187        0.9676\n",
       "6   0.065464  0.980400  0.087736        0.9744\n",
       "7   0.053740  0.983782  0.086578        0.9736\n",
       "8   0.044924  0.986836  0.094817        0.9732\n",
       "9   0.036201  0.989345  0.091885        0.9738\n",
       "10  0.030011  0.990964  0.092436        0.9758\n",
       "11  0.026496  0.992109  0.095056        0.9758\n",
       "12  0.018956  0.994636  0.087850        0.9776\n",
       "13  0.016856  0.995291  0.087113        0.9782\n",
       "14  0.013775  0.996055  0.103209        0.9760\n",
       "15  0.011973  0.996927  0.092969        0.9772\n",
       "16  0.006608  0.998636  0.114532        0.9752\n",
       "17  0.007048  0.998236  0.107640        0.9748\n",
       "18  0.005777  0.998527  0.102179        0.9764\n",
       "19  0.004792  0.998764  0.116716        0.9748\n",
       "20  0.003895  0.999145  0.100156        0.9798\n",
       "21  0.003270  0.999073  0.103010        0.9778\n",
       "22  0.005161  0.998491  0.110768        0.9786\n",
       "23  0.005310  0.998545  0.131399        0.9754\n",
       "24  0.002646  0.999327  0.129231        0.9756\n",
       "25  0.014116  0.995600  0.119540        0.9764\n",
       "26  0.008423  0.997345  0.135325        0.9732\n",
       "27  0.005515  0.998127  0.127591        0.9768\n",
       "28  0.002781  0.999255  0.104098        0.9812\n",
       "29  0.000413  0.999945  0.102968        0.9824"
      ]
     },
     "execution_count": 32,
     "metadata": {},
     "output_type": "execute_result"
    }
   ],
   "source": [
    "pd.DataFrame(history.history)"
   ]
  },
  {
   "cell_type": "code",
   "execution_count": 33,
   "metadata": {},
   "outputs": [
    {
     "data": {
      "image/png": "[encoded data removed]",
      "text/plain": [
       "<Figure size 576x360 with 1 Axes>"
      ]
     },
     "metadata": {
      "needs_background": "light"
     },
     "output_type": "display_data"
    }
   ],
   "source": [
    "pd.DataFrame(history.history).plot(figsize=(8, 5))\n",
    "plt.grid(True)\n",
    "plt.gca().set_ylim(0, 1)\n",
    "plt.show()"
   ]
  },
  {
   "cell_type": "markdown",
   "metadata": {},
   "source": [
    "We are converting the data into plots to see how the accuracy is changing. "
   ]
  },
  {
   "cell_type": "code",
   "execution_count": 34,
   "metadata": {},
   "outputs": [
    {
     "name": "stdout",
     "output_type": "stream",
     "text": [
      "10000/10000 [==============================] - 1s 114us/sample - loss: 0.1195 - accuracy: 0.9784\n"
     ]
    },
    {
     "data": {
      "text/plain": [
       "[0.11947774715885755, 0.9784]"
      ]
     },
     "execution_count": 34,
     "metadata": {},
     "output_type": "execute_result"
    }
   ],
   "source": [
    "model_clf.evaluate(X_test, y_test)"
   ]
  },
  {
   "cell_type": "markdown",
   "metadata": {},
   "source": [
    "### Accuracy is 97% "
   ]
  },
  {
   "cell_type": "markdown",
   "metadata": {},
   "source": [
    "### Now we are passing three arrays, and checking how the things work here. "
   ]
  },
  {
   "cell_type": "code",
   "execution_count": 35,
   "metadata": {},
   "outputs": [
    {
     "data": {
      "text/plain": [
       "array([[0., 0., 0., 0., 0., 0., 0., 1., 0., 0.],\n",
       "       [0., 0., 1., 0., 0., 0., 0., 0., 0., 0.],\n",
       "       [0., 1., 0., 0., 0., 0., 0., 0., 0., 0.]], dtype=float32)"
      ]
     },
     "execution_count": 35,
     "metadata": {},
     "output_type": "execute_result"
    }
   ],
   "source": [
    "X_new = X_test[:3]\n",
    "y_proba = model_clf.predict(X_new)\n",
    "y_proba.round(2)"
   ]
  },
  {
   "cell_type": "code",
   "execution_count": 36,
   "metadata": {},
   "outputs": [
    {
     "data": {
      "text/plain": [
       "array([7, 2, 1], dtype=int64)"
      ]
     },
     "execution_count": 36,
     "metadata": {},
     "output_type": "execute_result"
    }
   ],
   "source": [
    "y_pred = np.argmax(model_clf.predict(X_new), axis=-1)\n",
    "y_pred"
   ]
  },
  {
   "cell_type": "code",
   "execution_count": 37,
   "metadata": {},
   "outputs": [],
   "source": [
    "y_test_new = y_test[:8]"
   ]
  },
  {
   "cell_type": "code",
   "execution_count": 38,
   "metadata": {},
   "outputs": [
    {
     "data": {
      "image/png": "[encoded data removed]",
      "text/plain": [
       "<Figure size 432x288 with 1 Axes>"
      ]
     },
     "metadata": {
      "needs_background": "light"
     },
     "output_type": "display_data"
    },
    {
     "name": "stdout",
     "output_type": "stream",
     "text": [
      "------------------------------------------------------------\n"
     ]
    },
    {
     "data": {
      "image/png": "[encoded data removed]",
      "text/plain": [
       "<Figure size 432x288 with 1 Axes>"
      ]
     },
     "metadata": {
      "needs_background": "light"
     },
     "output_type": "display_data"
    },
    {
     "name": "stdout",
     "output_type": "stream",
     "text": [
      "------------------------------------------------------------\n"
     ]
    },
    {
     "data": {
      "image/png": "[encoded data removed]",
      "text/plain": [
       "<Figure size 432x288 with 1 Axes>"
      ]
     },
     "metadata": {
      "needs_background": "light"
     },
     "output_type": "display_data"
    },
    {
     "name": "stdout",
     "output_type": "stream",
     "text": [
      "------------------------------------------------------------\n"
     ]
    }
   ],
   "source": [
    "for data, pred, actual in zip(X_new, y_pred, y_test_new):\n",
    "    plt.imshow(data, cmap=\"binary\")\n",
    "    plt.title(f\"Predicted: {pred}, Actual: {actual}\")\n",
    "    plt.axis('off')\n",
    "    plt.show()\n",
    "    print(\"---\"*20)"
   ]
  },
  {
   "cell_type": "code",
   "execution_count": null,
   "metadata": {},
   "outputs": [],
   "source": [
    "import cv2\n",
    "img = mpimg.imread('eight.jpg') \n",
    "im = cv2.resize(img,  (28, 28)) \n",
    "im.shape\n",
    "import numpy as np\n",
    "import matplotlib.pyplot as plt\n",
    "import matplotlib.image as mpimg\n",
    "\n",
    "def rgb2gray(rgb):\n",
    "    return np.dot(rgb[...,:3], [0.2989, 0.5870, 0.1140])\n",
    "   \n",
    "gray = rgb2gray(im)    \n",
    "plt.imshow(gray, cmap=plt.get_cmap('gray'), vmin=0, vmax=1)\n",
    "plt.show()"
   ]
  }
 ],
 "metadata": {
  "kernelspec": {
   "display_name": "Python 3",
   "language": "python",
   "name": "python3"
  },
  "language_info": {
   "codemirror_mode": {
    "name": "ipython",
    "version": 3
   },
   "file_extension": ".py",
   "mimetype": "text/x-python",
   "name": "python",
   "nbconvert_exporter": "python",
   "pygments_lexer": "ipython3",
   "version": "3.7.4"
  }
 },
 "nbformat": 4,
 "nbformat_minor": 2
}
